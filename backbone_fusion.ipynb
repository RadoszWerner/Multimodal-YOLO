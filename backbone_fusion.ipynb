{
 "cells": [
  {
   "cell_type": "code",
   "execution_count": 45,
   "id": "9db494f5",
   "metadata": {},
   "outputs": [],
   "source": [
    "from ultralytics import YOLO\n",
    "import torch.nn as nn\n",
    "import copy\n",
    "import torch\n",
    "from ultralytics.nn.modules import Concat, C2f, Conv\n",
    "\n",
    "\n",
    "pretrained_model = YOLO('yolov8m.pt').model\n",
    "backbone = nn.Sequential(*list(pretrained_model.model.children())[:10])\n"
   ]
  },
  {
   "cell_type": "code",
   "execution_count": 46,
   "id": "a57b031d",
   "metadata": {},
   "outputs": [],
   "source": [
    "class CustomBackbone(nn.Module):\n",
    "    def __init__(self, layers, out_idx=[2, 4, 9]):\n",
    "        super().__init__()\n",
    "        self.layers = nn.ModuleList(layers)\n",
    "        self.out_idx = out_idx\n",
    "        \n",
    "    def forward(self, x):\n",
    "        outputs = []\n",
    "        for idx, layer in enumerate(self.layers):\n",
    "            x = layer(x)\n",
    "            if idx in self.out_idx:\n",
    "                outputs.append(x)\n",
    "        return outputs"
   ]
  },
  {
   "cell_type": "code",
   "execution_count": 47,
   "id": "a5f1efd0",
   "metadata": {},
   "outputs": [
    {
     "name": "stdout",
     "output_type": "stream",
     "text": [
      "torch.Size([48, 3, 3, 3])\n",
      "torch.Size([48, 1, 3, 3])\n"
     ]
    }
   ],
   "source": [
    "backbone_rgb = CustomBackbone(backbone)\n",
    "backbone_ir = copy.deepcopy(backbone_rgb)\n",
    "\n",
    "backbone_ir.layers[0].conv = nn.Conv2d(1, 48, kernel_size=3, stride=2, padding=1, bias=False)\n",
    "print(backbone_rgb.layers[0].conv.weight.shape)  # Powinno być torch.Size([48, 3, 3, 3])\n",
    "print(backbone_ir.layers[0].conv.weight.shape)   # Powinno być torch.Size([48, 1, 3, 3])"
   ]
  },
  {
   "cell_type": "code",
   "execution_count": 48,
   "id": "3e93e155",
   "metadata": {},
   "outputs": [],
   "source": [
    "class CustomYOLO(nn.Module):\n",
    "    def __init__(self, pretrained_model):\n",
    "        super().__init__()\n",
    "        # osobny backbone dla RGB i dla IR\n",
    "        self.backbone_rgb = backbone_rgb\n",
    "        self.backbone_ir = backbone_ir\n",
    "\n",
    "        ### tutaj próbny podział, jeszcze nie udalo mi sie dokonczyc tej idei\n",
    "        self.neck = nn.ModuleList(list(pretrained_model.model.children())[10:22])  # Warstwy necku\n",
    "        self.head = list(pretrained_model.model.children())[22]  # Warstwa Detect\n",
    "\n",
    "        # Reszta modelu (neck + head)\n",
    "        self.neck_head = nn.Sequential(*list(pretrained_model.model.children())[10:])\n",
    "        \n",
    "    # def forward(self, x_rgb, x_ir):\n",
    "    #     # Przetwórz obrazy przez backbone\n",
    "    #     features_rgb = self.backbone_rgb(x_rgb)\n",
    "    #     features_ir = self.backbone_ir(x_ir)\n",
    "        \n",
    "    #     for i, feat in enumerate(features_rgb):\n",
    "    #         print(f\"Kształt features_rgb[{i}]:\", feat.shape)\n",
    "    #     for i, feat in enumerate(features_ir):\n",
    "    #         print(f\"Kształt features_ir[{i}]:\", feat.shape)\n",
    "        \n",
    "    #     fused_features = [f_rgb + f_ir for f_rgb, f_ir in zip(features_rgb, features_ir)]\n",
    "        \n",
    "    #     # Przekaż do neck/head\n",
    "    #     return self.neck_head(fused_features)\n",
    "    def forward(self, x_rgb, x_ir):\n",
    "        # Przetwarzanie przez backbone\n",
    "        p3_rgb, p4_rgb, p5_rgb = self.backbone_rgb(x_rgb)\n",
    "        p3_ir, p4_ir, p5_ir = self.backbone_ir(x_ir)\n",
    "        \n",
    "        # Fuzja cech (suma)\n",
    "        x = [\n",
    "            p3_rgb + p3_ir,  # [1, 96, 160, 160]\n",
    "            p4_rgb + p4_ir,  # [1, 192, 80, 80]\n",
    "            p5_rgb + p5_ir   # [1, 576, 20, 20]\n",
    "        ]\n",
    "\n",
    "        # Mapowanie indeksów warstw necku\n",
    "        layer_mapping = {\n",
    "            0: (\"upsample\", 2),    # Upsample p5 (20x20 → 40x40)\n",
    "            1: (\"concat\", [2, 1]), # Concat p5_upsampled + p4\n",
    "            2: (\"c2f\", 768, 384),  # C2f(768→384)\n",
    "            3: (\"upsample\", 2),    # Upsample do 80x80\n",
    "            4: (\"concat\", [2, 0]), # Concat z p3\n",
    "            5: (\"c2f\", 480, 192),  # C2f(480→192)\n",
    "            6: (\"conv\", 192, 192, 3, 2), # Downsample 160x160 → 80x80\n",
    "            7: (\"concat\", [1, 0]), # Concat z p4\n",
    "            8: (\"c2f\", 576, 384),  # C2f(576→384)\n",
    "            9: (\"conv\", 384, 384, 3, 2), # Downsample 80x80 → 40x40\n",
    "            10: (\"concat\", [0, 2]), # Concat z p5\n",
    "            11: (\"c2f\", 1152, 576) # C2f(1152→576)\n",
    "        }\n",
    "\n",
    "        # Ręczne przetwarzanie necku\n",
    "        for i, layer in enumerate(self.neck):\n",
    "            op_type = layer_mapping[i][0]\n",
    "            \n",
    "            if op_type == \"upsample\":\n",
    "                x[-1] = layer(x[-1])  # Upsample ostatniego tensora\n",
    "                \n",
    "            elif op_type == \"concat\":\n",
    "                idx1, idx2 = layer_mapping[i][1]\n",
    "                x.append(layer([x[idx1], x[idx2]]))  # Concat\n",
    "                \n",
    "            elif op_type == \"c2f\":\n",
    "                x[-1] = layer(x[-1])  # C2f\n",
    "                \n",
    "            elif op_type == \"conv\":\n",
    "                x[-1] = layer(x[-1])  # Conv z downsamplingu\n",
    "\n",
    "        return self.head(x[-3:])  # Ostatnie 3 tensory dla Detect"
   ]
  },
  {
   "cell_type": "code",
   "execution_count": 49,
   "id": "69f2bf6b",
   "metadata": {},
   "outputs": [
    {
     "ename": "RuntimeError",
     "evalue": "Sizes of tensors must match except in dimension 1. Expected size 40 but got size 80 for tensor number 1 in the list.",
     "output_type": "error",
     "traceback": [
      "\u001b[31m---------------------------------------------------------------------------\u001b[39m",
      "\u001b[31mRuntimeError\u001b[39m                              Traceback (most recent call last)",
      "\u001b[36mCell\u001b[39m\u001b[36m \u001b[39m\u001b[32mIn[49]\u001b[39m\u001b[32m, line 8\u001b[39m\n\u001b[32m      5\u001b[39m x_ir = torch.randn(\u001b[32m1\u001b[39m, \u001b[32m1\u001b[39m, \u001b[32m640\u001b[39m, \u001b[32m640\u001b[39m)\n\u001b[32m      7\u001b[39m \u001b[38;5;66;03m# Forward pass\u001b[39;00m\n\u001b[32m----> \u001b[39m\u001b[32m8\u001b[39m output = \u001b[43mmodel\u001b[49m\u001b[43m(\u001b[49m\u001b[43mx_rgb\u001b[49m\u001b[43m,\u001b[49m\u001b[43m \u001b[49m\u001b[43mx_ir\u001b[49m\u001b[43m)\u001b[49m\n",
      "\u001b[36mFile \u001b[39m\u001b[32md:\\Projects\\multimodal\\venv\\Lib\\site-packages\\torch\\nn\\modules\\module.py:1739\u001b[39m, in \u001b[36mModule._wrapped_call_impl\u001b[39m\u001b[34m(self, *args, **kwargs)\u001b[39m\n\u001b[32m   1737\u001b[39m     \u001b[38;5;28;01mreturn\u001b[39;00m \u001b[38;5;28mself\u001b[39m._compiled_call_impl(*args, **kwargs)  \u001b[38;5;66;03m# type: ignore[misc]\u001b[39;00m\n\u001b[32m   1738\u001b[39m \u001b[38;5;28;01melse\u001b[39;00m:\n\u001b[32m-> \u001b[39m\u001b[32m1739\u001b[39m     \u001b[38;5;28;01mreturn\u001b[39;00m \u001b[38;5;28;43mself\u001b[39;49m\u001b[43m.\u001b[49m\u001b[43m_call_impl\u001b[49m\u001b[43m(\u001b[49m\u001b[43m*\u001b[49m\u001b[43margs\u001b[49m\u001b[43m,\u001b[49m\u001b[43m \u001b[49m\u001b[43m*\u001b[49m\u001b[43m*\u001b[49m\u001b[43mkwargs\u001b[49m\u001b[43m)\u001b[49m\n",
      "\u001b[36mFile \u001b[39m\u001b[32md:\\Projects\\multimodal\\venv\\Lib\\site-packages\\torch\\nn\\modules\\module.py:1750\u001b[39m, in \u001b[36mModule._call_impl\u001b[39m\u001b[34m(self, *args, **kwargs)\u001b[39m\n\u001b[32m   1745\u001b[39m \u001b[38;5;66;03m# If we don't have any hooks, we want to skip the rest of the logic in\u001b[39;00m\n\u001b[32m   1746\u001b[39m \u001b[38;5;66;03m# this function, and just call forward.\u001b[39;00m\n\u001b[32m   1747\u001b[39m \u001b[38;5;28;01mif\u001b[39;00m \u001b[38;5;129;01mnot\u001b[39;00m (\u001b[38;5;28mself\u001b[39m._backward_hooks \u001b[38;5;129;01mor\u001b[39;00m \u001b[38;5;28mself\u001b[39m._backward_pre_hooks \u001b[38;5;129;01mor\u001b[39;00m \u001b[38;5;28mself\u001b[39m._forward_hooks \u001b[38;5;129;01mor\u001b[39;00m \u001b[38;5;28mself\u001b[39m._forward_pre_hooks\n\u001b[32m   1748\u001b[39m         \u001b[38;5;129;01mor\u001b[39;00m _global_backward_pre_hooks \u001b[38;5;129;01mor\u001b[39;00m _global_backward_hooks\n\u001b[32m   1749\u001b[39m         \u001b[38;5;129;01mor\u001b[39;00m _global_forward_hooks \u001b[38;5;129;01mor\u001b[39;00m _global_forward_pre_hooks):\n\u001b[32m-> \u001b[39m\u001b[32m1750\u001b[39m     \u001b[38;5;28;01mreturn\u001b[39;00m \u001b[43mforward_call\u001b[49m\u001b[43m(\u001b[49m\u001b[43m*\u001b[49m\u001b[43margs\u001b[49m\u001b[43m,\u001b[49m\u001b[43m \u001b[49m\u001b[43m*\u001b[49m\u001b[43m*\u001b[49m\u001b[43mkwargs\u001b[49m\u001b[43m)\u001b[49m\n\u001b[32m   1752\u001b[39m result = \u001b[38;5;28;01mNone\u001b[39;00m\n\u001b[32m   1753\u001b[39m called_always_called_hooks = \u001b[38;5;28mset\u001b[39m()\n",
      "\u001b[36mCell\u001b[39m\u001b[36m \u001b[39m\u001b[32mIn[48]\u001b[39m\u001b[32m, line 66\u001b[39m, in \u001b[36mCustomYOLO.forward\u001b[39m\u001b[34m(self, x_rgb, x_ir)\u001b[39m\n\u001b[32m     64\u001b[39m \u001b[38;5;28;01melif\u001b[39;00m op_type == \u001b[33m\"\u001b[39m\u001b[33mconcat\u001b[39m\u001b[33m\"\u001b[39m:\n\u001b[32m     65\u001b[39m     idx1, idx2 = layer_mapping[i][\u001b[32m1\u001b[39m]\n\u001b[32m---> \u001b[39m\u001b[32m66\u001b[39m     x.append(\u001b[43mlayer\u001b[49m\u001b[43m(\u001b[49m\u001b[43m[\u001b[49m\u001b[43mx\u001b[49m\u001b[43m[\u001b[49m\u001b[43midx1\u001b[49m\u001b[43m]\u001b[49m\u001b[43m,\u001b[49m\u001b[43m \u001b[49m\u001b[43mx\u001b[49m\u001b[43m[\u001b[49m\u001b[43midx2\u001b[49m\u001b[43m]\u001b[49m\u001b[43m]\u001b[49m\u001b[43m)\u001b[49m)  \u001b[38;5;66;03m# Concat\u001b[39;00m\n\u001b[32m     68\u001b[39m \u001b[38;5;28;01melif\u001b[39;00m op_type == \u001b[33m\"\u001b[39m\u001b[33mc2f\u001b[39m\u001b[33m\"\u001b[39m:\n\u001b[32m     69\u001b[39m     x[-\u001b[32m1\u001b[39m] = layer(x[-\u001b[32m1\u001b[39m])  \u001b[38;5;66;03m# C2f\u001b[39;00m\n",
      "\u001b[36mFile \u001b[39m\u001b[32md:\\Projects\\multimodal\\venv\\Lib\\site-packages\\torch\\nn\\modules\\module.py:1739\u001b[39m, in \u001b[36mModule._wrapped_call_impl\u001b[39m\u001b[34m(self, *args, **kwargs)\u001b[39m\n\u001b[32m   1737\u001b[39m     \u001b[38;5;28;01mreturn\u001b[39;00m \u001b[38;5;28mself\u001b[39m._compiled_call_impl(*args, **kwargs)  \u001b[38;5;66;03m# type: ignore[misc]\u001b[39;00m\n\u001b[32m   1738\u001b[39m \u001b[38;5;28;01melse\u001b[39;00m:\n\u001b[32m-> \u001b[39m\u001b[32m1739\u001b[39m     \u001b[38;5;28;01mreturn\u001b[39;00m \u001b[38;5;28;43mself\u001b[39;49m\u001b[43m.\u001b[49m\u001b[43m_call_impl\u001b[49m\u001b[43m(\u001b[49m\u001b[43m*\u001b[49m\u001b[43margs\u001b[49m\u001b[43m,\u001b[49m\u001b[43m \u001b[49m\u001b[43m*\u001b[49m\u001b[43m*\u001b[49m\u001b[43mkwargs\u001b[49m\u001b[43m)\u001b[49m\n",
      "\u001b[36mFile \u001b[39m\u001b[32md:\\Projects\\multimodal\\venv\\Lib\\site-packages\\torch\\nn\\modules\\module.py:1750\u001b[39m, in \u001b[36mModule._call_impl\u001b[39m\u001b[34m(self, *args, **kwargs)\u001b[39m\n\u001b[32m   1745\u001b[39m \u001b[38;5;66;03m# If we don't have any hooks, we want to skip the rest of the logic in\u001b[39;00m\n\u001b[32m   1746\u001b[39m \u001b[38;5;66;03m# this function, and just call forward.\u001b[39;00m\n\u001b[32m   1747\u001b[39m \u001b[38;5;28;01mif\u001b[39;00m \u001b[38;5;129;01mnot\u001b[39;00m (\u001b[38;5;28mself\u001b[39m._backward_hooks \u001b[38;5;129;01mor\u001b[39;00m \u001b[38;5;28mself\u001b[39m._backward_pre_hooks \u001b[38;5;129;01mor\u001b[39;00m \u001b[38;5;28mself\u001b[39m._forward_hooks \u001b[38;5;129;01mor\u001b[39;00m \u001b[38;5;28mself\u001b[39m._forward_pre_hooks\n\u001b[32m   1748\u001b[39m         \u001b[38;5;129;01mor\u001b[39;00m _global_backward_pre_hooks \u001b[38;5;129;01mor\u001b[39;00m _global_backward_hooks\n\u001b[32m   1749\u001b[39m         \u001b[38;5;129;01mor\u001b[39;00m _global_forward_hooks \u001b[38;5;129;01mor\u001b[39;00m _global_forward_pre_hooks):\n\u001b[32m-> \u001b[39m\u001b[32m1750\u001b[39m     \u001b[38;5;28;01mreturn\u001b[39;00m \u001b[43mforward_call\u001b[49m\u001b[43m(\u001b[49m\u001b[43m*\u001b[49m\u001b[43margs\u001b[49m\u001b[43m,\u001b[49m\u001b[43m \u001b[49m\u001b[43m*\u001b[49m\u001b[43m*\u001b[49m\u001b[43mkwargs\u001b[49m\u001b[43m)\u001b[49m\n\u001b[32m   1752\u001b[39m result = \u001b[38;5;28;01mNone\u001b[39;00m\n\u001b[32m   1753\u001b[39m called_always_called_hooks = \u001b[38;5;28mset\u001b[39m()\n",
      "\u001b[36mFile \u001b[39m\u001b[32md:\\Projects\\multimodal\\venv\\Lib\\site-packages\\ultralytics\\nn\\modules\\conv.py:683\u001b[39m, in \u001b[36mConcat.forward\u001b[39m\u001b[34m(self, x)\u001b[39m\n\u001b[32m    673\u001b[39m \u001b[38;5;28;01mdef\u001b[39;00m\u001b[38;5;250m \u001b[39m\u001b[34mforward\u001b[39m(\u001b[38;5;28mself\u001b[39m, x):\n\u001b[32m    674\u001b[39m \u001b[38;5;250m    \u001b[39m\u001b[33;03m\"\"\"\u001b[39;00m\n\u001b[32m    675\u001b[39m \u001b[33;03m    Concatenate input tensors along specified dimension.\u001b[39;00m\n\u001b[32m    676\u001b[39m \n\u001b[32m   (...)\u001b[39m\u001b[32m    681\u001b[39m \u001b[33;03m        (torch.Tensor): Concatenated tensor.\u001b[39;00m\n\u001b[32m    682\u001b[39m \u001b[33;03m    \"\"\"\u001b[39;00m\n\u001b[32m--> \u001b[39m\u001b[32m683\u001b[39m     \u001b[38;5;28;01mreturn\u001b[39;00m \u001b[43mtorch\u001b[49m\u001b[43m.\u001b[49m\u001b[43mcat\u001b[49m\u001b[43m(\u001b[49m\u001b[43mx\u001b[49m\u001b[43m,\u001b[49m\u001b[43m \u001b[49m\u001b[38;5;28;43mself\u001b[39;49m\u001b[43m.\u001b[49m\u001b[43md\u001b[49m\u001b[43m)\u001b[49m\n",
      "\u001b[31mRuntimeError\u001b[39m: Sizes of tensors must match except in dimension 1. Expected size 40 but got size 80 for tensor number 1 in the list."
     ]
    }
   ],
   "source": [
    "# Inicjalizacja modelu\n",
    "model = CustomYOLO(pretrained_model)\n",
    "\n",
    "x_rgb = torch.randn(1, 3, 640, 640)\n",
    "x_ir = torch.randn(1, 1, 640, 640)\n",
    "\n",
    "# Forward pass\n",
    "output = model(x_rgb, x_ir)"
   ]
  }
 ],
 "metadata": {
  "kernelspec": {
   "display_name": "venv",
   "language": "python",
   "name": "python3"
  },
  "language_info": {
   "codemirror_mode": {
    "name": "ipython",
    "version": 3
   },
   "file_extension": ".py",
   "mimetype": "text/x-python",
   "name": "python",
   "nbconvert_exporter": "python",
   "pygments_lexer": "ipython3",
   "version": "3.12.10"
  }
 },
 "nbformat": 4,
 "nbformat_minor": 5
}
