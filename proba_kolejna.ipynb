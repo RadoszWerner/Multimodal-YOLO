{
 "cells": [
  {
   "cell_type": "code",
   "execution_count": 9,
   "id": "08ffda99",
   "metadata": {},
   "outputs": [],
   "source": [
    "from ultralytics import YOLO\n",
    "import torch.nn as nn\n",
    "import copy\n",
    "import torch\n",
    "from ultralytics.nn.modules import Concat, C2f, Conv, SPPF"
   ]
  },
  {
   "cell_type": "code",
   "execution_count": 10,
   "id": "4e080029",
   "metadata": {},
   "outputs": [],
   "source": [
    "pretrained_model = YOLO('yolov8m.pt').model\n",
    "backbone = nn.Sequential(*list(pretrained_model.model.children())[:10])"
   ]
  },
  {
   "cell_type": "code",
   "execution_count": 11,
   "id": "f6516b99",
   "metadata": {},
   "outputs": [],
   "source": [
    "class CustomBackbone(nn.Module):\n",
    "    def __init__(self, layers, out_idx=[4, 6, 8]):\n",
    "        super().__init__()\n",
    "        self.layers = nn.ModuleList(layers)\n",
    "        self.out_idx = out_idx\n",
    "        \n",
    "    def forward(self, x):\n",
    "        outputs = []\n",
    "        for idx, layer in enumerate(self.layers):\n",
    "            x = layer(x)\n",
    "            if idx in self.out_idx:\n",
    "                outputs.append(x)\n",
    "        return outputs"
   ]
  },
  {
   "cell_type": "code",
   "execution_count": 12,
   "id": "09ed920b",
   "metadata": {},
   "outputs": [
    {
     "name": "stdout",
     "output_type": "stream",
     "text": [
      "torch.Size([48, 3, 3, 3])\n",
      "torch.Size([48, 1, 3, 3])\n"
     ]
    }
   ],
   "source": [
    "backbone_rgb = CustomBackbone(backbone)\n",
    "backbone_ir = copy.deepcopy(backbone_rgb)\n",
    "\n",
    "# Modyfikacja pierwszej konwolucji dla IR (1 kanał)\n",
    "backbone_ir.layers[0].conv = nn.Conv2d(1, 48, kernel_size=3, stride=2, padding=1, bias=False)\n",
    "\n",
    "print(backbone_rgb.layers[0].conv.weight.shape)\n",
    "print(backbone_ir.layers[0].conv.weight.shape)"
   ]
  },
  {
   "cell_type": "code",
   "execution_count": 13,
   "id": "7ef562a3",
   "metadata": {},
   "outputs": [],
   "source": [
    "class CustomNeck(nn.Module):\n",
    "    def __init__(self, fused_channels):\n",
    "        # super().__init__()\n",
    "        # self.debugged = False\n",
    "        # # fused_channels to liczba kanałów po konkatenacji, np. [192, 384, 576]\n",
    "        # self.layer9 = SPPF(fused_channels[2], fused_channels[2] // 2)  # SPPF dla najgłębszej skali\n",
    "        # self.layer10 = nn.Upsample(scale_factor=2, mode='nearest')\n",
    "        # self.layer11 = Concat()\n",
    "        # self.layer12 = C2f(fused_channels[2] // 2 + fused_channels[1], fused_channels[1] // 2, n=2)\n",
    "        # self.layer13 = nn.Upsample(scale_factor=2, mode='nearest')\n",
    "        # self.layer14 = Concat()\n",
    "        # self.layer15 = C2f(fused_channels[1] // 2 + fused_channels[0], fused_channels[0] // 2, n=2)\n",
    "        # self.layer16 = Conv(fused_channels[0] // 2, fused_channels[0] // 2, 3, s=2)\n",
    "        # self.layer17 = Concat()\n",
    "        # self.layer18 = C2f(fused_channels[0] // 2 + fused_channels[1], fused_channels[1] // 2, n=2)\n",
    "        # self.layer19 = Conv(fused_channels[1] // 2, fused_channels[1] // 2, 3, s=2)\n",
    "        # self.layer20 = Concat()\n",
    "        # self.layer21 = C2f(fused_channels[1] // 2 + fused_channels[2], fused_channels[2] // 2, n=2)\n",
    "        super().__init__()\n",
    "        self.debugged = False\n",
    "        self.layer9 = SPPF(fused_channels[2], fused_channels[2])  # 576 -> 576\n",
    "        self.layer10 = nn.Upsample(scale_factor=2, mode='nearest')\n",
    "        self.layer11 = Concat()\n",
    "        self.layer12 = C2f(fused_channels[2] + fused_channels[1], fused_channels[1], n=2)  # 576 + 384 = 960 -> 384\n",
    "        self.layer13 = nn.Upsample(scale_factor=2, mode='nearest')\n",
    "        self.layer14 = Concat()\n",
    "        self.layer15 = C2f(fused_channels[1] + fused_channels[0], fused_channels[0], n=2)  # 384 + 192 = 576 -> 192\n",
    "        self.layer16 = Conv(fused_channels[0], fused_channels[0], 3, s=2)  # 192 -> 192\n",
    "        self.layer17 = Concat()\n",
    "        self.layer18 = C2f(fused_channels[0] + fused_channels[1], fused_channels[1], n=2)  # 192 + 384 = 576 -> 384\n",
    "        self.layer19 = Conv(fused_channels[1], fused_channels[1], 3, s=2)  # 384 -> 384\n",
    "        self.layer20 = Concat()\n",
    "        self.layer21 = C2f(fused_channels[1] + fused_channels[2], fused_channels[2], n=2)  # 384 + 576 = 960 -> 576\n",
    "\n",
    "    # def forward(self, fused):\n",
    "    #     feat1, feat2, feat3 = fused  # feat1: warstwa 4, feat2: warstwa 6, feat3: warstwa 8\n",
    "\n",
    "    #     x = self.layer9(feat3)\n",
    "    #     x = self.layer10(x)\n",
    "    #     x = self.layer11([x, feat2])\n",
    "    #     x = self.layer12(x)\n",
    "    #     x = self.layer13(x)\n",
    "    #     x = self.layer14([x, feat1])\n",
    "    #     feat_shallow = self.layer15(x)\n",
    "\n",
    "    #     x = self.layer16(feat_shallow)\n",
    "    #     x = self.layer17([x, feat2])\n",
    "    #     feat_mid = self.layer18(x)\n",
    "    #     x = self.layer19(feat_mid)\n",
    "    #     x = self.layer20([x, feat3])\n",
    "    #     feat_deep = self.layer21(x)\n",
    "    #     print(f\"feat_shallow channels: {feat_shallow.shape[1]}\")\n",
    "    #     print(f\"feat_mid channels: {feat_mid.shape[1]}\")\n",
    "    #     print(f\"feat_deep channels: {feat_deep.shape[1]}\")\n",
    "    #     return [feat_shallow, feat_mid, feat_deep]\n",
    "    \n",
    "    def forward(self, fused):\n",
    "        feat1, feat2, feat3 = fused\n",
    "        if not self.debugged:\n",
    "            display(f\"Input fused channels: {[f.shape[1] for f in fused]}\")\n",
    "\n",
    "        x = self.layer9(feat3)\n",
    "        if not self.debugged:\n",
    "            display(f\"After layer9: {x.shape[1]} channels\")\n",
    "\n",
    "        x = self.layer10(x)\n",
    "        x = self.layer11([x, feat2])\n",
    "        if not self.debugged:\n",
    "            display(f\"After layer11: {x.shape[1]} channels\")\n",
    "\n",
    "        x = self.layer12(x)\n",
    "        if not self.debugged:\n",
    "            display(f\"After layer12: {x.shape[1]} channels\")\n",
    "\n",
    "        x = self.layer13(x)\n",
    "        x = self.layer14([x, feat1])\n",
    "        feat_shallow = self.layer15(x)\n",
    "        if not self.debugged:\n",
    "            display(f\"feat_shallow: {feat_shallow.shape[1]} channels\")\n",
    "\n",
    "        x = self.layer16(feat_shallow)\n",
    "        x = self.layer17([x, feat2])\n",
    "        feat_mid = self.layer18(x)\n",
    "        if not self.debugged:\n",
    "            display(f\"feat_mid: {feat_mid.shape[1]} channels\")\n",
    "\n",
    "        x = self.layer19(feat_mid)\n",
    "        x = self.layer20([x, feat3])\n",
    "        feat_deep = self.layer21(x)\n",
    "        if not self.debugged:\n",
    "            display(f\"feat_deep: {feat_deep.shape[1]} channels\")\n",
    "            self.debugged = True\n",
    "\n",
    "        return [feat_shallow, feat_mid, feat_deep]"
   ]
  },
  {
   "cell_type": "code",
   "execution_count": 14,
   "id": "0b823181",
   "metadata": {},
   "outputs": [],
   "source": [
    "# Definicja CustomYOLO\n",
    "class CustomYOLO(nn.Module):\n",
    "    def __init__(self, pretrained_model, backbone_rgb, backbone_ir):\n",
    "        super().__init__()\n",
    "        self._init_attributes(pretrained_model)\n",
    "        self.debugged = False\n",
    "        self.model = nn.ModuleList([\n",
    "            backbone_rgb,              \n",
    "            backbone_ir,               \n",
    "            CustomNeck(fused_channels=[192, 384, 576]),  \n",
    "            copy.deepcopy(pretrained_model.model[-1])  \n",
    "        ])\n",
    "        # Warstwy redukujące kanały po fuzji\n",
    "        self.reduce_channels = nn.ModuleList([\n",
    "            nn.Conv2d(384, 192, kernel_size=1, stride=1, padding=0),  # Redukcja z 384 do 192\n",
    "            nn.Conv2d(768, 384, kernel_size=1, stride=1, padding=0),  # Redukcja z 768 do 384\n",
    "            nn.Conv2d(1152, 576, kernel_size=1, stride=1, padding=0)  # Redukcja z 1152 do 576\n",
    "        ])\n",
    "        \n",
    "    def _init_attributes(self, pretrained_model):\n",
    "        self.args = pretrained_model.args\n",
    "        self.stride = pretrained_model.model[-1].stride\n",
    "        self.anchors = pretrained_model.model[-1].anchors\n",
    "        self.nc = pretrained_model.nc\n",
    "        self.names = pretrained_model.names\n",
    "\n",
    "    # def forward(self, x_rgb, x_ir):\n",
    "    #     # Ekstrakcja cech\n",
    "    #     features_rgb = self.model[0](x_rgb)  \n",
    "    #     features_ir = self.model[1](x_ir)   \n",
    "        \n",
    "    #     fused = [torch.cat([f_rgb, f_ir], dim=1) for f_rgb, f_ir in zip(features_rgb, features_ir)]\n",
    "        \n",
    "    #     neck_outputs = self.model[2](fused)\n",
    "    #     print(f\"RGB features channels: {[f.shape[1] for f in features_rgb]}\")\n",
    "    #     print(f\"IR features channels: {[f.shape[1] for f in features_ir]}\")\n",
    "    #     print(f\"Fused features channels: {[f.shape[1] for f in fused]}\")\n",
    "    #     print(f\"Neck outputs channels: {[n.shape[1] for n in neck_outputs]}\")\n",
    "    #     return self.model[3](neck_outputs)\n",
    "\n",
    "    def forward(self, x_rgb, x_ir):\n",
    "        if not self.debugged:\n",
    "            display(f\"Input RGB shape: {x_rgb.shape}\")\n",
    "            display(f\"Input IR shape: {x_ir.shape}\")\n",
    "\n",
    "        features_rgb = self.model[0](x_rgb)\n",
    "        features_ir = self.model[1](x_ir)\n",
    "\n",
    "        if not self.debugged:\n",
    "            display(f\"RGB features channels: {[f.shape[1] for f in features_rgb]}\")\n",
    "            display(f\"IR features channels: {[f.shape[1] for f in features_ir]}\")\n",
    "\n",
    "        fused = [torch.cat([f_rgb, f_ir], dim=1) for f_rgb, f_ir in zip(features_rgb, features_ir)]\n",
    "\n",
    "        if not self.debugged:\n",
    "            display(f\"Fused features channels (before reduction): {[f.shape[1] for f in fused]}\")\n",
    "\n",
    "        fused = [self.reduce_channels[i](fused[i]) for i in range(len(fused))]\n",
    "\n",
    "        if not self.debugged:\n",
    "            display(f\"Fused features channels (after reduction): {[f.shape[1] for f in fused]}\")\n",
    "\n",
    "        neck_outputs = self.model[2](fused)\n",
    "\n",
    "        if not self.debugged:\n",
    "            display(f\"Neck outputs channels: {[n.shape[1] for n in neck_outputs]}\")\n",
    "            self.debugged = True\n",
    "\n",
    "        return self.model[3](neck_outputs)\n",
    "\n",
    "# Inicjalizacja modelu\n",
    "custom_model = CustomYOLO(pretrained_model, backbone_rgb, backbone_ir)"
   ]
  },
  {
   "cell_type": "code",
   "execution_count": 15,
   "id": "0166c57c",
   "metadata": {},
   "outputs": [],
   "source": [
    "from torch.utils.data import Dataset, DataLoader, default_collate\n",
    "import cv2\n",
    "import os\n",
    "import torch\n",
    "\n",
    "class MultimodalYOLODataset(Dataset):\n",
    "    def __init__(self, rgb_dir, ir_dir, annotations_dir, img_size=(640, 640)):\n",
    "        self.rgb_dir = rgb_dir\n",
    "        self.ir_dir = ir_dir\n",
    "        self.annotations_dir = annotations_dir\n",
    "        self.img_files = sorted(os.listdir(rgb_dir))\n",
    "        self.img_size = img_size\n",
    "\n",
    "    def __len__(self):\n",
    "        return len(self.img_files)\n",
    "\n",
    "    def __getitem__(self, idx):\n",
    "        img_name = self.img_files[idx]\n",
    "        rgb_path = os.path.join(self.rgb_dir, img_name)\n",
    "        ir_path = os.path.join(self.ir_dir, img_name)\n",
    "        label_path = os.path.join(self.annotations_dir, img_name.replace('.jpg', '.txt'))\n",
    "\n",
    "        # Wczytanie obrazów\n",
    "        img_rgb = cv2.imread(rgb_path)\n",
    "        if img_rgb is None:\n",
    "            raise FileNotFoundError(f\"Nie można wczytać obrazu RGB: {rgb_path}\")\n",
    "        img_rgb = cv2.cvtColor(img_rgb, cv2.COLOR_BGR2RGB)\n",
    "        img_rgb = cv2.resize(img_rgb, self.img_size)  # Zmień rozmiar\n",
    "\n",
    "        img_ir = cv2.imread(ir_path, cv2.IMREAD_GRAYSCALE)\n",
    "        if img_ir is None:\n",
    "            raise FileNotFoundError(f\"Nie można wczytać obrazu IR: {ir_path}\")\n",
    "        img_ir = cv2.resize(img_ir, self.img_size)\n",
    "        img_ir = img_ir[..., None]  # Dodanie wymiaru kanału: (H, W) -> (H, W, 1)\n",
    "\n",
    "        # Konwersja na tensory i normalizacja\n",
    "        img_rgb = torch.from_numpy(img_rgb).permute(2, 0, 1).float() / 255.0\n",
    "        img_ir = torch.from_numpy(img_ir).permute(2, 0, 1).float() / 255.0\n",
    "\n",
    "        # Wczytanie adnotacji\n",
    "        if os.path.exists(label_path):\n",
    "            with open(label_path, 'r') as f:\n",
    "                labels = [list(map(float, line.split())) for line in f.readlines()]\n",
    "            labels = torch.tensor(labels) if labels else torch.zeros((0, 5))\n",
    "            if labels.numel() > 0:  # Dodaj kolumnę batch_idx (zostanie nadpisaną w collate_fn)\n",
    "                labels = torch.cat([torch.zeros((labels.shape[0], 1)), labels], dim=1)\n",
    "            else:\n",
    "                labels = torch.zeros((0, 6))  # Pusty tensor z 6 kolumnami\n",
    "        else:\n",
    "            labels = torch.zeros((0, 6))\n",
    "\n",
    "        return img_rgb, img_ir, labels\n",
    "\n",
    "def custom_collate_fn(batch):\n",
    "    img_rgb, img_ir, targets = zip(*batch)\n",
    "    img_rgb = default_collate(img_rgb)\n",
    "    img_ir = default_collate(img_ir)\n",
    "    for i, target in enumerate(targets):\n",
    "        if target.numel() > 0:  # Ustaw batch_idx\n",
    "            target[:, 0] = i\n",
    "    return img_rgb, img_ir, targets\n",
    "\n",
    "# Utworzenie dataloadera\n",
    "train_dataset = MultimodalYOLODataset(\n",
    "    rgb_dir='LLVIP/visible/train',\n",
    "    ir_dir='LLVIP/infrared/train',\n",
    "    annotations_dir='LLVIP/Annotations',\n",
    "    img_size=(640, 640)\n",
    ")\n",
    "train_loader = DataLoader(train_dataset, batch_size=16, shuffle=True, collate_fn=custom_collate_fn)"
   ]
  },
  {
   "cell_type": "code",
   "execution_count": 16,
   "id": "c6c2b9d8",
   "metadata": {},
   "outputs": [
    {
     "data": {
      "text/plain": [
       "'Input RGB shape: torch.Size([16, 3, 640, 640])'"
      ]
     },
     "metadata": {},
     "output_type": "display_data"
    },
    {
     "data": {
      "text/plain": [
       "'Input IR shape: torch.Size([16, 1, 640, 640])'"
      ]
     },
     "metadata": {},
     "output_type": "display_data"
    },
    {
     "data": {
      "text/plain": [
       "'RGB features channels: [192, 384, 576]'"
      ]
     },
     "metadata": {},
     "output_type": "display_data"
    },
    {
     "data": {
      "text/plain": [
       "'IR features channels: [192, 384, 576]'"
      ]
     },
     "metadata": {},
     "output_type": "display_data"
    },
    {
     "data": {
      "text/plain": [
       "'Fused features channels (before reduction): [384, 768, 1152]'"
      ]
     },
     "metadata": {},
     "output_type": "display_data"
    },
    {
     "data": {
      "text/plain": [
       "'Fused features channels (after reduction): [192, 384, 576]'"
      ]
     },
     "metadata": {},
     "output_type": "display_data"
    },
    {
     "data": {
      "text/plain": [
       "'Input fused channels: [192, 384, 576]'"
      ]
     },
     "metadata": {},
     "output_type": "display_data"
    },
    {
     "data": {
      "text/plain": [
       "'After layer9: 576 channels'"
      ]
     },
     "metadata": {},
     "output_type": "display_data"
    },
    {
     "data": {
      "text/plain": [
       "'After layer11: 960 channels'"
      ]
     },
     "metadata": {},
     "output_type": "display_data"
    },
    {
     "data": {
      "text/plain": [
       "'After layer12: 384 channels'"
      ]
     },
     "metadata": {},
     "output_type": "display_data"
    },
    {
     "data": {
      "text/plain": [
       "'feat_shallow: 192 channels'"
      ]
     },
     "metadata": {},
     "output_type": "display_data"
    },
    {
     "data": {
      "text/plain": [
       "'feat_mid: 384 channels'"
      ]
     },
     "metadata": {},
     "output_type": "display_data"
    },
    {
     "data": {
      "text/plain": [
       "'feat_deep: 576 channels'"
      ]
     },
     "metadata": {},
     "output_type": "display_data"
    },
    {
     "data": {
      "text/plain": [
       "'Neck outputs channels: [192, 384, 576]'"
      ]
     },
     "metadata": {},
     "output_type": "display_data"
    }
   ],
   "source": [
    "# Ustawienie urządzenia\n",
    "device = torch.device('cuda' if torch.cuda.is_available() else 'cpu')\n",
    "\n",
    "model = custom_model.to(device)\n",
    "\n",
    "debug_dataset = torch.utils.data.Subset(train_dataset, range(16))  # Tylko 16 próbek\n",
    "debug_loader = DataLoader(debug_dataset, batch_size=16, shuffle=False, collate_fn=custom_collate_fn)\n",
    "\n",
    "# Debugowanie na małym podzbiorze\n",
    "model.eval()  # Wyłącz tryb treningowy, aby uniknąć aktualizacji wag\n",
    "with torch.no_grad():  # Wyłącz obliczanie gradientów\n",
    "    for batch in debug_loader:\n",
    "        img_rgb, img_ir, targets = batch\n",
    "        img_rgb = img_rgb.to(device)\n",
    "        img_ir = img_ir.to(device)\n",
    "        targets = [t.to(device) for t in targets]\n",
    "        outputs = model(img_rgb, img_ir)\n",
    "        break  # Zatrzymaj po pierwszej iteracji"
   ]
  },
  {
   "cell_type": "code",
   "execution_count": null,
   "id": "8176be79",
   "metadata": {},
   "outputs": [
    {
     "data": {
      "application/vnd.jupyter.widget-view+json": {
       "model_id": "c8cb9d54f2054a23a49851dd92dc2d36",
       "version_major": 2,
       "version_minor": 0
      },
      "text/plain": [
       "Epoka 1/50:   0%|          | 0/752 [00:00<?, ?it/s]"
      ]
     },
     "metadata": {},
     "output_type": "display_data"
    },
    {
     "ename": "TypeError",
     "evalue": "list indices must be integers or slices, not str",
     "output_type": "error",
     "traceback": [
      "\u001b[31m---------------------------------------------------------------------------\u001b[39m",
      "\u001b[31mTypeError\u001b[39m                                 Traceback (most recent call last)",
      "\u001b[36mCell\u001b[39m\u001b[36m \u001b[39m\u001b[32mIn[18]\u001b[39m\u001b[32m, line 34\u001b[39m\n\u001b[32m     32\u001b[39m optimizer.zero_grad()\n\u001b[32m     33\u001b[39m outputs = model(img_rgb, img_ir)\n\u001b[32m---> \u001b[39m\u001b[32m34\u001b[39m loss = \u001b[43mloss_fn\u001b[49m\u001b[43m(\u001b[49m\u001b[43moutputs\u001b[49m\u001b[43m,\u001b[49m\u001b[43m \u001b[49m\u001b[43mtargets\u001b[49m\u001b[43m)\u001b[49m\n\u001b[32m     35\u001b[39m loss.backward()\n\u001b[32m     36\u001b[39m optimizer.step()\n",
      "\u001b[36mFile \u001b[39m\u001b[32md:\\Projects\\multimodal-YOLO\\venv\\Lib\\site-packages\\ultralytics\\utils\\loss.py:218\u001b[39m, in \u001b[36mv8DetectionLoss.__call__\u001b[39m\u001b[34m(self, preds, batch)\u001b[39m\n\u001b[32m    215\u001b[39m anchor_points, stride_tensor = make_anchors(feats, \u001b[38;5;28mself\u001b[39m.stride, \u001b[32m0.5\u001b[39m)\n\u001b[32m    217\u001b[39m \u001b[38;5;66;03m# Targets\u001b[39;00m\n\u001b[32m--> \u001b[39m\u001b[32m218\u001b[39m targets = torch.cat((\u001b[43mbatch\u001b[49m\u001b[43m[\u001b[49m\u001b[33;43m\"\u001b[39;49m\u001b[33;43mbatch_idx\u001b[39;49m\u001b[33;43m\"\u001b[39;49m\u001b[43m]\u001b[49m.view(-\u001b[32m1\u001b[39m, \u001b[32m1\u001b[39m), batch[\u001b[33m\"\u001b[39m\u001b[33mcls\u001b[39m\u001b[33m\"\u001b[39m].view(-\u001b[32m1\u001b[39m, \u001b[32m1\u001b[39m), batch[\u001b[33m\"\u001b[39m\u001b[33mbboxes\u001b[39m\u001b[33m\"\u001b[39m]), \u001b[32m1\u001b[39m)\n\u001b[32m    219\u001b[39m targets = \u001b[38;5;28mself\u001b[39m.preprocess(targets.to(\u001b[38;5;28mself\u001b[39m.device), batch_size, scale_tensor=imgsz[[\u001b[32m1\u001b[39m, \u001b[32m0\u001b[39m, \u001b[32m1\u001b[39m, \u001b[32m0\u001b[39m]])\n\u001b[32m    220\u001b[39m gt_labels, gt_bboxes = targets.split((\u001b[32m1\u001b[39m, \u001b[32m4\u001b[39m), \u001b[32m2\u001b[39m)  \u001b[38;5;66;03m# cls, xyxy\u001b[39;00m\n",
      "\u001b[31mTypeError\u001b[39m: list indices must be integers or slices, not str"
     ]
    },
    {
     "ename": "",
     "evalue": "",
     "output_type": "error",
     "traceback": [
      "\u001b[1;31mThe Kernel crashed while executing code in the current cell or a previous cell. \n",
      "\u001b[1;31mPlease review the code in the cell(s) to identify a possible cause of the failure. \n",
      "\u001b[1;31mClick <a href='https://aka.ms/vscodeJupyterKernelCrash'>here</a> for more info. \n",
      "\u001b[1;31mView Jupyter <a href='command:jupyter.viewOutput'>log</a> for further details."
     ]
    }
   ],
   "source": [
    "import torch\n",
    "from ultralytics.utils.loss import v8DetectionLoss\n",
    "from tqdm.notebook import tqdm  # Zmień na tqdm.notebook\n",
    "\n",
    "# Ustawienie urządzenia\n",
    "device = torch.device('cuda' if torch.cuda.is_available() else 'cpu')\n",
    "\n",
    "# Przygotowanie modelu\n",
    "model = custom_model.to(device)\n",
    "model.train()\n",
    "loss_fn = v8DetectionLoss(model)\n",
    "optimizer = torch.optim.Adam(model.parameters(), lr=0.001)\n",
    "\n",
    "# Pętla treningowa z lepszym outputem\n",
    "num_epochs = 50\n",
    "best_loss = float('inf')\n",
    "\n",
    "for epoch in range(num_epochs):\n",
    "    model.train()\n",
    "    epoch_loss = 0.0  # Licznik straty w epoce\n",
    "    num_batches = 0   # Licznik batchy\n",
    "\n",
    "    # Użyj tqdm.notebook do paska postępu\n",
    "    progress_bar = tqdm(train_loader, desc=f\"Epoka {epoch+1}/{num_epochs}\", leave=True)\n",
    "    \n",
    "    for batch in progress_bar:\n",
    "        img_rgb, img_ir, targets = batch\n",
    "        img_rgb = img_rgb.to(device)\n",
    "        img_ir = img_ir.to(device)\n",
    "        targets = [t.to(device) for t in targets]\n",
    "        \n",
    "        optimizer.zero_grad()\n",
    "        outputs = model(img_rgb, img_ir)\n",
    "        loss = loss_fn(outputs, targets)\n",
    "        loss.backward()\n",
    "        optimizer.step()\n",
    "        \n",
    "        # Oblicz średnią stratę w epoce\n",
    "        epoch_loss += loss.item()\n",
    "        num_batches += 1\n",
    "        \n",
    "        # Aktualizuj pasek postępu z bieżącą stratą\n",
    "        progress_bar.set_postfix({'Strata': f\"{loss.item():.4f}\"})\n",
    "    \n",
    "    # Średnia strata w epoce\n",
    "    avg_epoch_loss = epoch_loss / num_batches\n",
    "    print(f\"Epoka {epoch+1}/{num_epochs}, Średnia strata: {avg_epoch_loss:.4f}\", flush=True)\n",
    "    \n",
    "    # Zapisz model, jeśli strata jest lepsza\n",
    "    if avg_epoch_loss < best_loss:\n",
    "        best_loss = avg_epoch_loss\n",
    "        torch.save(model.state_dict(), 'best_model.pth')"
   ]
  },
  {
   "cell_type": "code",
   "execution_count": null,
   "id": "50cde9a5",
   "metadata": {},
   "outputs": [],
   "source": []
  }
 ],
 "metadata": {
  "kernelspec": {
   "display_name": "venv",
   "language": "python",
   "name": "python3"
  },
  "language_info": {
   "codemirror_mode": {
    "name": "ipython",
    "version": 3
   },
   "file_extension": ".py",
   "mimetype": "text/x-python",
   "name": "python",
   "nbconvert_exporter": "python",
   "pygments_lexer": "ipython3",
   "version": "3.12.10"
  }
 },
 "nbformat": 4,
 "nbformat_minor": 5
}
