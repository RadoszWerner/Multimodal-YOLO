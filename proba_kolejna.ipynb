{
 "cells": [
  {
   "cell_type": "code",
   "execution_count": 16,
   "id": "08ffda99",
   "metadata": {},
   "outputs": [],
   "source": [
    "from ultralytics import YOLO\n",
    "import torch.nn as nn\n",
    "import copy\n",
    "import torch\n",
    "from ultralytics.nn.modules import Concat, C2f, Conv, SPPF"
   ]
  },
  {
   "cell_type": "code",
   "execution_count": 17,
   "id": "4e080029",
   "metadata": {},
   "outputs": [],
   "source": [
    "pretrained_model = YOLO('yolov8m.pt').model\n",
    "backbone = nn.Sequential(*list(pretrained_model.model.children())[:10])"
   ]
  },
  {
   "cell_type": "code",
   "execution_count": 18,
   "id": "f6516b99",
   "metadata": {},
   "outputs": [],
   "source": [
    "class CustomBackbone(nn.Module):\n",
    "    def __init__(self, layers, out_idx=[4, 6, 8]):\n",
    "        super().__init__()\n",
    "        self.layers = nn.ModuleList(layers)\n",
    "        self.out_idx = out_idx\n",
    "        \n",
    "    def forward(self, x):\n",
    "        outputs = []\n",
    "        for idx, layer in enumerate(self.layers):\n",
    "            x = layer(x)\n",
    "            if idx in self.out_idx:\n",
    "                outputs.append(x)\n",
    "        return outputs"
   ]
  },
  {
   "cell_type": "code",
   "execution_count": 19,
   "id": "09ed920b",
   "metadata": {},
   "outputs": [
    {
     "name": "stdout",
     "output_type": "stream",
     "text": [
      "torch.Size([48, 3, 3, 3])\n",
      "torch.Size([48, 1, 3, 3])\n"
     ]
    }
   ],
   "source": [
    "backbone_rgb = CustomBackbone(backbone)\n",
    "backbone_ir = copy.deepcopy(backbone_rgb)\n",
    "\n",
    "# Modyfikacja pierwszej konwolucji dla IR (1 kanał)\n",
    "backbone_ir.layers[0].conv = nn.Conv2d(1, 48, kernel_size=3, stride=2, padding=1, bias=False)\n",
    "\n",
    "print(backbone_rgb.layers[0].conv.weight.shape)\n",
    "print(backbone_ir.layers[0].conv.weight.shape)"
   ]
  },
  {
   "cell_type": "code",
   "execution_count": 20,
   "id": "7ef562a3",
   "metadata": {},
   "outputs": [],
   "source": [
    "# Definicja CustomNeck\n",
    "class CustomNeck(nn.Module):\n",
    "    def __init__(self, fused_channels):\n",
    "        super().__init__()\n",
    "        # fused_channels to liczba kanałów po konkatenacji, np. [192, 384, 576]\n",
    "        self.layer9 = SPPF(fused_channels[2], fused_channels[2] // 2)  # SPPF dla najgłębszej skali\n",
    "        self.layer10 = nn.Upsample(scale_factor=2, mode='nearest')\n",
    "        self.layer11 = Concat()\n",
    "        self.layer12 = C2f(fused_channels[2] // 2 + fused_channels[1], fused_channels[1] // 2, n=2)\n",
    "        self.layer13 = nn.Upsample(scale_factor=2, mode='nearest')\n",
    "        self.layer14 = Concat()\n",
    "        self.layer15 = C2f(fused_channels[1] // 2 + fused_channels[0], fused_channels[0] // 2, n=2)\n",
    "        self.layer16 = Conv(fused_channels[0] // 2, fused_channels[0] // 2, 3, s=2)\n",
    "        self.layer17 = Concat()\n",
    "        self.layer18 = C2f(fused_channels[0] // 2 + fused_channels[1], fused_channels[1] // 2, n=2)\n",
    "        self.layer19 = Conv(fused_channels[1] // 2, fused_channels[1] // 2, 3, s=2)\n",
    "        self.layer20 = Concat()\n",
    "        self.layer21 = C2f(fused_channels[1] // 2 + fused_channels[2], fused_channels[2] // 2, n=2)\n",
    "\n",
    "    def forward(self, fused):\n",
    "        feat1, feat2, feat3 = fused  # feat1: warstwa 4, feat2: warstwa 6, feat3: warstwa 8\n",
    "\n",
    "        x = self.layer9(feat3)\n",
    "        x = self.layer10(x)\n",
    "        x = self.layer11([x, feat2])\n",
    "        x = self.layer12(x)\n",
    "        x = self.layer13(x)\n",
    "        x = self.layer14([x, feat1])\n",
    "        feat_shallow = self.layer15(x)\n",
    "\n",
    "        x = self.layer16(feat_shallow)\n",
    "        x = self.layer17([x, feat2])\n",
    "        feat_mid = self.layer18(x)\n",
    "        x = self.layer19(feat_mid)\n",
    "        x = self.layer20([x, feat3])\n",
    "        feat_deep = self.layer21(x)\n",
    "\n",
    "        return [feat_shallow, feat_mid, feat_deep]"
   ]
  },
  {
   "cell_type": "code",
   "execution_count": 21,
   "id": "0b823181",
   "metadata": {},
   "outputs": [],
   "source": [
    "# Definicja CustomYOLO\n",
    "class CustomYOLO(nn.Module):\n",
    "    def __init__(self, pretrained_model, backbone_rgb, backbone_ir):\n",
    "        super().__init__()\n",
    "        self.backbone_rgb = backbone_rgb\n",
    "        self.backbone_ir = backbone_ir\n",
    "        \n",
    "        # Standardowe kanały dla YOLOv8m po warstwach 4, 6, 8 po konkatenacji: [192, 384, 576]\n",
    "        self.neck_head = CustomNeck(fused_channels=[192, 384, 576])\n",
    "        \n",
    "        # Przeniesienie warstwy Detect z pretrenowanego modelu\n",
    "        self.detect = copy.deepcopy(pretrained_model.model[-1])\n",
    "        self.args = pretrained_model.args\n",
    "        \n",
    "    def forward(self, x_rgb, x_ir):\n",
    "        # Ekstrakcja cech\n",
    "        features_rgb = self.backbone_rgb(x_rgb)\n",
    "        features_ir = self.backbone_ir(x_ir)\n",
    "        \n",
    "        # Fuzja przez konkatenację wzdłuż wymiaru kanałów\n",
    "        fused = [torch.cat([f_rgb, f_ir], dim=1) for f_rgb, f_ir in zip(features_rgb, features_ir)]\n",
    "        \n",
    "        # Przetwarzanie przez neck\n",
    "        neck_outputs = self.neck_head(fused)\n",
    "        \n",
    "        # Detekcja\n",
    "        return self.detect(neck_outputs)\n",
    "\n",
    "# Inicjalizacja modelu\n",
    "custom_model = CustomYOLO(pretrained_model, backbone_rgb, backbone_ir)"
   ]
  },
  {
   "cell_type": "code",
   "execution_count": 22,
   "id": "4de47c77",
   "metadata": {},
   "outputs": [],
   "source": [
    "# import xml.etree.ElementTree as ET\n",
    "# import os\n",
    "\n",
    "# def convert_voc_to_yolo(xml_path, output_path):\n",
    "#     tree = ET.parse(xml_path)\n",
    "#     root = tree.getroot()\n",
    "#     size = root.find('size')\n",
    "#     img_width = int(size.find('width').text)\n",
    "#     img_height = int(size.find('height').text)\n",
    "    \n",
    "#     with open(output_path, 'w') as f:\n",
    "#         for obj in root.findall('object'):\n",
    "#             class_id = 0  # Dla klasy 'person', dostosuj jeśli masz inne klasy\n",
    "#             bbox = obj.find('bndbox')\n",
    "#             xmin = float(bbox.find('xmin').text)\n",
    "#             ymin = float(bbox.find('ymin').text)\n",
    "#             xmax = float(bbox.find('xmax').text)\n",
    "#             ymax = float(bbox.find('ymax').text)\n",
    "            \n",
    "#             # Obliczenie znormalizowanych współrzędnych\n",
    "#             x_center = (xmin + xmax) / 2 / img_width\n",
    "#             y_center = (ymin + ymax) / 2 / img_height\n",
    "#             width = (xmax - xmin) / img_width\n",
    "#             height = (ymax - ymin) / img_height\n",
    "            \n",
    "#             f.write(f\"{class_id} {x_center} {y_center} {width} {height}\\n\")\n",
    "\n",
    "# # Przykład użycia dla folderu z adnotacjami\n",
    "# annotations_dir = 'LLVIP/Annotations'  # Zmień na swój folder\n",
    "# for xml_file in os.listdir(annotations_dir):\n",
    "#     if xml_file.endswith('.xml'):\n",
    "#         xml_path = os.path.join(annotations_dir, xml_file)\n",
    "#         txt_path = xml_path.replace('.xml', '.txt')\n",
    "#         convert_voc_to_yolo(xml_path, txt_path)"
   ]
  },
  {
   "cell_type": "code",
   "execution_count": 23,
   "id": "4a6984ba",
   "metadata": {},
   "outputs": [],
   "source": [
    "from torch.utils.data import Dataset, DataLoader\n",
    "import cv2\n",
    "import os\n",
    "import torch\n",
    "\n",
    "class MultimodalYOLODataset(Dataset):\n",
    "    def __init__(self, rgb_dir, ir_dir, annotations_dir):\n",
    "        self.rgb_dir = rgb_dir\n",
    "        self.ir_dir = ir_dir\n",
    "        self.annotations_dir = annotations_dir\n",
    "        self.img_files = sorted(os.listdir(rgb_dir))  # Lista plików obrazów\n",
    "\n",
    "    def __len__(self):\n",
    "        return len(self.img_files)\n",
    "\n",
    "    def __getitem__(self, idx):\n",
    "        img_name = self.img_files[idx]\n",
    "        rgb_path = os.path.join(self.rgb_dir, img_name)\n",
    "        ir_path = os.path.join(self.ir_dir, img_name)\n",
    "        label_path = os.path.join(self.annotations_dir, img_name.replace('.jpg', '.txt'))\n",
    "\n",
    "        # Wczytanie obrazów\n",
    "        img_rgb = cv2.imread(rgb_path)\n",
    "        img_rgb = cv2.cvtColor(img_rgb, cv2.COLOR_BGR2RGB)  # Konwersja BGR na RGB\n",
    "        img_ir = cv2.imread(ir_path, cv2.IMREAD_GRAYSCALE)  # IR jako skala szarości\n",
    "        img_ir = img_ir[..., None]  # Dodanie wymiaru kanału: (H, W) -> (H, W, 1)\n",
    "\n",
    "        # Konwersja na tensory i normalizacja (dostosuj rozmiar, np. 640x640, jeśli potrzeba)\n",
    "        img_rgb = torch.from_numpy(img_rgb).permute(2, 0, 1).float() / 255.0\n",
    "        img_ir = torch.from_numpy(img_ir).permute(2, 0, 1).float() / 255.0\n",
    "\n",
    "        # Wczytanie adnotacji\n",
    "        if os.path.exists(label_path):\n",
    "            with open(label_path, 'r') as f:\n",
    "                labels = [list(map(float, line.split())) for line in f.readlines()]\n",
    "            labels = torch.tensor(labels) if labels else torch.zeros((0, 5))\n",
    "        else:\n",
    "            labels = torch.zeros((0, 5))  # Brak adnotacji\n",
    "\n",
    "        return img_rgb, img_ir, labels\n",
    "\n",
    "# Utworzenie dataloadera dla zbioru treningowego\n",
    "train_dataset = MultimodalYOLODataset(\n",
    "    rgb_dir='LLVIP/visible/train',\n",
    "    ir_dir='LLVIP/infrared/train',\n",
    "    annotations_dir='LLVIP/Annotations'\n",
    ")\n",
    "train_loader = DataLoader(train_dataset, batch_size=16, shuffle=True)"
   ]
  },
  {
   "cell_type": "code",
   "execution_count": 24,
   "id": "652b0291",
   "metadata": {},
   "outputs": [
    {
     "name": "stdout",
     "output_type": "stream",
     "text": [
      "['T_destination', '__annotations__', '__call__', '__class__', '__delattr__', '__dict__', '__dir__', '__doc__', '__eq__', '__format__', '__ge__', '__getattr__', '__getattribute__', '__getstate__', '__gt__', '__hash__', '__init__', '__init_subclass__', '__le__', '__lt__', '__module__', '__ne__', '__new__', '__reduce__', '__reduce_ex__', '__repr__', '__setattr__', '__setstate__', '__sizeof__', '__str__', '__subclasshook__', '__weakref__', '_apply', '_backward_hooks', '_backward_pre_hooks', '_buffers', '_call_impl', '_clip_augmented', '_compiled_call_impl', '_descale_pred', '_forward_hooks', '_forward_hooks_always_called', '_forward_hooks_with_kwargs', '_forward_pre_hooks', '_forward_pre_hooks_with_kwargs', '_get_backward_hooks', '_get_backward_pre_hooks', '_get_name', '_is_full_backward_hook', '_load_from_state_dict', '_load_state_dict_post_hooks', '_load_state_dict_pre_hooks', '_maybe_warn_non_full_backward_hook', '_modules', '_named_members', '_non_persistent_buffers_set', '_parameters', '_predict_augment', '_predict_once', '_profile_one_layer', '_register_load_state_dict_pre_hook', '_register_state_dict_hook', '_replicate_for_data_parallel', '_save_to_state_dict', '_slow_forward', '_state_dict_hooks', '_state_dict_pre_hooks', '_version', '_wrapped_call_impl', 'add_module', 'apply', 'args', 'bfloat16', 'buffers', 'call_super_init', 'children', 'compile', 'cpu', 'cuda', 'double', 'dump_patches', 'eval', 'extra_repr', 'float', 'forward', 'fuse', 'get_buffer', 'get_extra_state', 'get_parameter', 'get_submodule', 'half', 'info', 'init_criterion', 'inplace', 'ipu', 'is_fused', 'load', 'load_state_dict', 'loss', 'model', 'modules', 'mtia', 'named_buffers', 'named_children', 'named_modules', 'named_parameters', 'names', 'nc', 'parameters', 'predict', 'pt_path', 'register_backward_hook', 'register_buffer', 'register_forward_hook', 'register_forward_pre_hook', 'register_full_backward_hook', 'register_full_backward_pre_hook', 'register_load_state_dict_post_hook', 'register_load_state_dict_pre_hook', 'register_module', 'register_parameter', 'register_state_dict_post_hook', 'register_state_dict_pre_hook', 'requires_grad_', 'save', 'set_extra_state', 'set_submodule', 'share_memory', 'state_dict', 'stride', 'task', 'to', 'to_empty', 'train', 'training', 'type', 'xpu', 'yaml', 'yaml_file', 'zero_grad']\n"
     ]
    }
   ],
   "source": [
    "from ultralytics import YOLO\n",
    "\n",
    "# Wczytaj model (np. YOLOv8)\n",
    "model = YOLO('yolov8m.pt')\n",
    "\n",
    "# Sprawdź dostępne atrybuty modelu\n",
    "print(dir(model.model))"
   ]
  },
  {
   "cell_type": "code",
   "execution_count": 25,
   "id": "866a3f9f",
   "metadata": {},
   "outputs": [
    {
     "ename": "AttributeError",
     "evalue": "'CustomYOLO' object has no attribute 'model'",
     "output_type": "error",
     "traceback": [
      "\u001b[31m---------------------------------------------------------------------------\u001b[39m",
      "\u001b[31mAttributeError\u001b[39m                            Traceback (most recent call last)",
      "\u001b[36mCell\u001b[39m\u001b[36m \u001b[39m\u001b[32mIn[25]\u001b[39m\u001b[32m, line 7\u001b[39m\n\u001b[32m      5\u001b[39m model = custom_model\n\u001b[32m      6\u001b[39m model.train()\n\u001b[32m----> \u001b[39m\u001b[32m7\u001b[39m loss_fn = \u001b[43mv8DetectionLoss\u001b[49m\u001b[43m(\u001b[49m\u001b[43mmodel\u001b[49m\u001b[43m)\u001b[49m  \u001b[38;5;66;03m# Funkcja straty YOLO\u001b[39;00m\n\u001b[32m      8\u001b[39m optimizer = torch.optim.Adam(model.parameters(), lr=\u001b[32m0.001\u001b[39m)\n\u001b[32m     10\u001b[39m num_epochs = \u001b[32m50\u001b[39m\n",
      "\u001b[36mFile \u001b[39m\u001b[32md:\\Projects\\multimodal-YOLO\\venv\\Lib\\site-packages\\ultralytics\\utils\\loss.py:160\u001b[39m, in \u001b[36mv8DetectionLoss.__init__\u001b[39m\u001b[34m(self, model, tal_topk)\u001b[39m\n\u001b[32m    157\u001b[39m device = \u001b[38;5;28mnext\u001b[39m(model.parameters()).device  \u001b[38;5;66;03m# get model device\u001b[39;00m\n\u001b[32m    158\u001b[39m h = model.args  \u001b[38;5;66;03m# hyperparameters\u001b[39;00m\n\u001b[32m--> \u001b[39m\u001b[32m160\u001b[39m m = \u001b[43mmodel\u001b[49m\u001b[43m.\u001b[49m\u001b[43mmodel\u001b[49m[-\u001b[32m1\u001b[39m]  \u001b[38;5;66;03m# Detect() module\u001b[39;00m\n\u001b[32m    161\u001b[39m \u001b[38;5;28mself\u001b[39m.bce = nn.BCEWithLogitsLoss(reduction=\u001b[33m\"\u001b[39m\u001b[33mnone\u001b[39m\u001b[33m\"\u001b[39m)\n\u001b[32m    162\u001b[39m \u001b[38;5;28mself\u001b[39m.hyp = h\n",
      "\u001b[36mFile \u001b[39m\u001b[32md:\\Projects\\multimodal-YOLO\\venv\\Lib\\site-packages\\torch\\nn\\modules\\module.py:1928\u001b[39m, in \u001b[36mModule.__getattr__\u001b[39m\u001b[34m(self, name)\u001b[39m\n\u001b[32m   1926\u001b[39m     \u001b[38;5;28;01mif\u001b[39;00m name \u001b[38;5;129;01min\u001b[39;00m modules:\n\u001b[32m   1927\u001b[39m         \u001b[38;5;28;01mreturn\u001b[39;00m modules[name]\n\u001b[32m-> \u001b[39m\u001b[32m1928\u001b[39m \u001b[38;5;28;01mraise\u001b[39;00m \u001b[38;5;167;01mAttributeError\u001b[39;00m(\n\u001b[32m   1929\u001b[39m     \u001b[33mf\u001b[39m\u001b[33m\"\u001b[39m\u001b[33m'\u001b[39m\u001b[38;5;132;01m{\u001b[39;00m\u001b[38;5;28mtype\u001b[39m(\u001b[38;5;28mself\u001b[39m).\u001b[34m__name__\u001b[39m\u001b[38;5;132;01m}\u001b[39;00m\u001b[33m'\u001b[39m\u001b[33m object has no attribute \u001b[39m\u001b[33m'\u001b[39m\u001b[38;5;132;01m{\u001b[39;00mname\u001b[38;5;132;01m}\u001b[39;00m\u001b[33m'\u001b[39m\u001b[33m\"\u001b[39m\n\u001b[32m   1930\u001b[39m )\n",
      "\u001b[31mAttributeError\u001b[39m: 'CustomYOLO' object has no attribute 'model'"
     ]
    }
   ],
   "source": [
    "import torch\n",
    "from ultralytics.utils.loss import v8DetectionLoss\n",
    "\n",
    "# Zakładamy, że masz zdefiniowany model (custom_model)\n",
    "model = custom_model\n",
    "model.train()\n",
    "loss_fn = v8DetectionLoss(model)  # Funkcja straty YOLO\n",
    "optimizer = torch.optim.Adam(model.parameters(), lr=0.001)\n",
    "\n",
    "num_epochs = 50\n",
    "for epoch in range(num_epochs):\n",
    "    for batch in train_loader:\n",
    "        img_rgb, img_ir, targets = batch\n",
    "        optimizer.zero_grad()\n",
    "        outputs = model(img_rgb, img_ir)  # Model przyjmuje oba obrazy\n",
    "        loss = loss_fn(outputs, targets)\n",
    "        loss.backward()\n",
    "        optimizer.step()\n",
    "    print(f\"Epoka {epoch+1}/{num_epochs}, Strata: {loss.item()}\")"
   ]
  }
 ],
 "metadata": {
  "kernelspec": {
   "display_name": "venv",
   "language": "python",
   "name": "python3"
  },
  "language_info": {
   "codemirror_mode": {
    "name": "ipython",
    "version": 3
   },
   "file_extension": ".py",
   "mimetype": "text/x-python",
   "name": "python",
   "nbconvert_exporter": "python",
   "pygments_lexer": "ipython3",
   "version": "3.12.10"
  }
 },
 "nbformat": 4,
 "nbformat_minor": 5
}
